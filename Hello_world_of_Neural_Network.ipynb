{
  "nbformat": 4,
  "nbformat_minor": 0,
  "metadata": {
    "colab": {
      "name": "Hello world of Neural Network.ipynb",
      "version": "0.3.2",
      "provenance": [],
      "include_colab_link": true
    },
    "kernelspec": {
      "name": "python3",
      "display_name": "Python 3"
    }
  },
  "cells": [
    {
      "cell_type": "markdown",
      "metadata": {
        "id": "view-in-github",
        "colab_type": "text"
      },
      "source": [
        "<a href=\"https://colab.research.google.com/github/mobassir94/Introduction-to-TensorFlow-for-Artificial-Intelligence-Machine-Learning-and-Deep-Learning/blob/master/Hello_world_of_Neural_Network.ipynb\" target=\"_parent\"><img src=\"https://colab.research.google.com/assets/colab-badge.svg\" alt=\"Open In Colab\"/></a>"
      ]
    },
    {
      "metadata": {
        "id": "QCgu9vA_qKrD",
        "colab_type": "code",
        "colab": {}
      },
      "cell_type": "code",
      "source": [
        "import numpy as np\n",
        "from tensorflow import keras\n"
      ],
      "execution_count": 0,
      "outputs": []
    },
    {
      "metadata": {
        "id": "rpKJ0dtbrZmx",
        "colab_type": "code",
        "colab": {}
      },
      "cell_type": "code",
      "source": [
        "model = keras.Sequential([keras.layers.Dense(units =1, input_shape=[1])])\n",
        "\n",
        "model.compile(optimizer = 'sgd', loss = 'mean_squared_error')\n",
        "\n"
      ],
      "execution_count": 0,
      "outputs": []
    },
    {
      "metadata": {
        "id": "efj88p_9sCVA",
        "colab_type": "code",
        "colab": {}
      },
      "cell_type": "code",
      "source": [
        "x = np.array([-1.0,0.0,1.0,2.0,3.0,4.0], dtype = float)\n",
        "y = np.array([-3.0,-1.0,1.0,3.0,5.0,7.0], dtype = float)"
      ],
      "execution_count": 0,
      "outputs": []
    },
    {
      "metadata": {
        "id": "h-3MRjvRty35",
        "colab_type": "code",
        "colab": {
          "base_uri": "https://localhost:8080/",
          "height": 1872
        },
        "outputId": "892364b4-b1e6-445b-d796-36d3bd7f022d"
      },
      "cell_type": "code",
      "source": [
        "model.fit(x,y, epochs = 50)\n",
        "\n",
        "print(\"predicted Answer : \" ,  model.predict([10.0]))"
      ],
      "execution_count": 26,
      "outputs": [
        {
          "output_type": "stream",
          "text": [
            "Epoch 1/50\n",
            "6/6 [==============================] - 0s 304us/sample - loss: 5.3310e-07\n",
            "Epoch 2/50\n",
            "6/6 [==============================] - 0s 381us/sample - loss: 5.2218e-07\n",
            "Epoch 3/50\n",
            "6/6 [==============================] - 0s 649us/sample - loss: 5.1143e-07\n",
            "Epoch 4/50\n",
            "6/6 [==============================] - 0s 946us/sample - loss: 5.0099e-07\n",
            "Epoch 5/50\n",
            "6/6 [==============================] - 0s 278us/sample - loss: 4.9075e-07\n",
            "Epoch 6/50\n",
            "6/6 [==============================] - 0s 259us/sample - loss: 4.8057e-07\n",
            "Epoch 7/50\n",
            "6/6 [==============================] - 0s 240us/sample - loss: 4.7077e-07\n",
            "Epoch 8/50\n",
            "6/6 [==============================] - 0s 309us/sample - loss: 4.6115e-07\n",
            "Epoch 9/50\n",
            "6/6 [==============================] - 0s 245us/sample - loss: 4.5158e-07\n",
            "Epoch 10/50\n",
            "6/6 [==============================] - 0s 296us/sample - loss: 4.4229e-07\n",
            "Epoch 11/50\n",
            "6/6 [==============================] - 0s 238us/sample - loss: 4.3316e-07\n",
            "Epoch 12/50\n",
            "6/6 [==============================] - 0s 225us/sample - loss: 4.2435e-07\n",
            "Epoch 13/50\n",
            "6/6 [==============================] - 0s 236us/sample - loss: 4.1569e-07\n",
            "Epoch 14/50\n",
            "6/6 [==============================] - 0s 233us/sample - loss: 4.0704e-07\n",
            "Epoch 15/50\n",
            "6/6 [==============================] - 0s 256us/sample - loss: 3.9877e-07\n",
            "Epoch 16/50\n",
            "6/6 [==============================] - 0s 263us/sample - loss: 3.9053e-07\n",
            "Epoch 17/50\n",
            "6/6 [==============================] - 0s 237us/sample - loss: 3.8258e-07\n",
            "Epoch 18/50\n",
            "6/6 [==============================] - 0s 236us/sample - loss: 3.7471e-07\n",
            "Epoch 19/50\n",
            "6/6 [==============================] - 0s 224us/sample - loss: 3.6705e-07\n",
            "Epoch 20/50\n",
            "6/6 [==============================] - 0s 235us/sample - loss: 3.5950e-07\n",
            "Epoch 21/50\n",
            "6/6 [==============================] - 0s 226us/sample - loss: 3.5207e-07\n",
            "Epoch 22/50\n",
            "6/6 [==============================] - 0s 321us/sample - loss: 3.4484e-07\n",
            "Epoch 23/50\n",
            "6/6 [==============================] - 0s 224us/sample - loss: 3.3769e-07\n",
            "Epoch 24/50\n",
            "6/6 [==============================] - 0s 233us/sample - loss: 3.3088e-07\n",
            "Epoch 25/50\n",
            "6/6 [==============================] - 0s 234us/sample - loss: 3.2404e-07\n",
            "Epoch 26/50\n",
            "6/6 [==============================] - 0s 286us/sample - loss: 3.1739e-07\n",
            "Epoch 27/50\n",
            "6/6 [==============================] - 0s 236us/sample - loss: 3.1085e-07\n",
            "Epoch 28/50\n",
            "6/6 [==============================] - 0s 232us/sample - loss: 3.0450e-07\n",
            "Epoch 29/50\n",
            "6/6 [==============================] - 0s 238us/sample - loss: 2.9822e-07\n",
            "Epoch 30/50\n",
            "6/6 [==============================] - 0s 268us/sample - loss: 2.9215e-07\n",
            "Epoch 31/50\n",
            "6/6 [==============================] - 0s 1ms/sample - loss: 2.8614e-07\n",
            "Epoch 32/50\n",
            "6/6 [==============================] - 0s 261us/sample - loss: 2.8023e-07\n",
            "Epoch 33/50\n",
            "6/6 [==============================] - 0s 273us/sample - loss: 2.7451e-07\n",
            "Epoch 34/50\n",
            "6/6 [==============================] - 0s 256us/sample - loss: 2.6884e-07\n",
            "Epoch 35/50\n",
            "6/6 [==============================] - 0s 230us/sample - loss: 2.6331e-07\n",
            "Epoch 36/50\n",
            "6/6 [==============================] - 0s 248us/sample - loss: 2.5789e-07\n",
            "Epoch 37/50\n",
            "6/6 [==============================] - 0s 251us/sample - loss: 2.5266e-07\n",
            "Epoch 38/50\n",
            "6/6 [==============================] - 0s 245us/sample - loss: 2.4741e-07\n",
            "Epoch 39/50\n",
            "6/6 [==============================] - 0s 243us/sample - loss: 2.4238e-07\n",
            "Epoch 40/50\n",
            "6/6 [==============================] - 0s 230us/sample - loss: 2.3738e-07\n",
            "Epoch 41/50\n",
            "6/6 [==============================] - 0s 225us/sample - loss: 2.3256e-07\n",
            "Epoch 42/50\n",
            "6/6 [==============================] - 0s 276us/sample - loss: 2.2773e-07\n",
            "Epoch 43/50\n",
            "6/6 [==============================] - 0s 215us/sample - loss: 2.2302e-07\n",
            "Epoch 44/50\n",
            "6/6 [==============================] - 0s 231us/sample - loss: 2.1842e-07\n",
            "Epoch 45/50\n",
            "6/6 [==============================] - 0s 230us/sample - loss: 2.1397e-07\n",
            "Epoch 46/50\n",
            "6/6 [==============================] - 0s 235us/sample - loss: 2.0959e-07\n",
            "Epoch 47/50\n",
            "6/6 [==============================] - 0s 238us/sample - loss: 2.0534e-07\n",
            "Epoch 48/50\n",
            "6/6 [==============================] - 0s 229us/sample - loss: 2.0107e-07\n",
            "Epoch 49/50\n",
            "6/6 [==============================] - 0s 230us/sample - loss: 1.9696e-07\n",
            "Epoch 50/50\n",
            "6/6 [==============================] - 0s 285us/sample - loss: 1.9287e-07\n",
            "predicted Answer :  [[18.998718]]\n"
          ],
          "name": "stdout"
        }
      ]
    }
  ]
}